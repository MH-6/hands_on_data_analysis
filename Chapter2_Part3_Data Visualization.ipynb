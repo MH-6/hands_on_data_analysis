{
 "cells": [
  {
   "cell_type": "markdown",
   "id": "juvenile-communications",
   "metadata": {},
   "source": [
    "**复习**：  \n",
    "第一章，我们对泰坦尼克号数据有了基本的了解，也学到了一些基本的统计方法  \n",
    "第二章中我们学习了数据的清理和重构，使得数据更加的易于理解  \n",
    "今天的是第二章第三节：数据可视化，主要给大家介绍一下Python数据可视化库Matplotlib，在本章学习中，你也许会觉得数据很有趣。在打比赛的过程中，数据可视化可以让我们更好的看到每一个关键步骤的结果如何，可以用来优化方案，是一个很有用的技巧。"
   ]
  },
  {
   "cell_type": "markdown",
   "id": "blessed-stranger",
   "metadata": {},
   "source": [
    "关于%matplotlib magic command  \n",
    "\"To set this up, before any plotting or import of matplotlib is performed you must execute the %matplotlib magic command. This performs the necessary behind-the-scenes setup for IPython to work correctly hand in hand with matplotlib\"  \n",
    "参考文章：<https://ipython.readthedocs.io/en/stable/interactive/plotting.html>"
   ]
  },
  {
   "cell_type": "code",
   "execution_count": 1,
   "id": "therapeutic-natural",
   "metadata": {},
   "outputs": [],
   "source": [
    "# 导入相关包，注意 %matplotlib magic command\n",
    "%matplotlib inline\n",
    "import numpy as np\n",
    "import pandas as pd\n",
    "import matplotlib.pyplot as plt"
   ]
  },
  {
   "cell_type": "code",
   "execution_count": 3,
   "id": "national-plymouth",
   "metadata": {},
   "outputs": [],
   "source": [
    "# 加载数据\n",
    "text = pd.read_csv('result.csv')\n",
    "#text.head()"
   ]
  },
  {
   "cell_type": "markdown",
   "id": "abandoned-identification",
   "metadata": {},
   "source": [
    "## 2.7 如何让人一眼看懂你的数据？"
   ]
  },
  {
   "cell_type": "markdown",
   "id": "proof-toilet",
   "metadata": {},
   "source": [
    "Python for Data Analysis - chapter9"
   ]
  },
  {
   "cell_type": "code",
   "execution_count": null,
   "id": "naughty-wheel",
   "metadata": {},
   "outputs": [],
   "source": []
  }
 ],
 "metadata": {
  "kernelspec": {
   "display_name": "Python [conda env:root] *",
   "language": "python",
   "name": "conda-root-py"
  },
  "language_info": {
   "codemirror_mode": {
    "name": "ipython",
    "version": 3
   },
   "file_extension": ".py",
   "mimetype": "text/x-python",
   "name": "python",
   "nbconvert_exporter": "python",
   "pygments_lexer": "ipython3",
   "version": "3.7.3"
  }
 },
 "nbformat": 4,
 "nbformat_minor": 5
}
