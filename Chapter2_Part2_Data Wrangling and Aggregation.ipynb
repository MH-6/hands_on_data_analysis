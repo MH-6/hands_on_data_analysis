{
 "cells": [
  {
   "cell_type": "markdown",
   "id": "laughing-volleyball",
   "metadata": {},
   "source": [
    "复习：在前面我们已经学习了Pandas基础，第二章我们开始进入数据分析的业务部分，在第二章第一节的内容中，我们学习了数据的清洗，这一部分十分重要，只有数据变得相对干净，我们之后对数据的分析才可以更有力。而这一节，我们要做的是数据重构，数据重构依旧属于数据理解（准备）的范围。"
   ]
  },
  {
   "cell_type": "code",
   "execution_count": 1,
   "id": "experienced-consequence",
   "metadata": {},
   "outputs": [],
   "source": [
    "import numpy as np\n",
    "import pandas as pd"
   ]
  },
  {
   "cell_type": "code",
   "execution_count": 3,
   "id": "accurate-simulation",
   "metadata": {},
   "outputs": [
    {
     "data": {
      "text/html": [
       "<div>\n",
       "<style scoped>\n",
       "    .dataframe tbody tr th:only-of-type {\n",
       "        vertical-align: middle;\n",
       "    }\n",
       "\n",
       "    .dataframe tbody tr th {\n",
       "        vertical-align: top;\n",
       "    }\n",
       "\n",
       "    .dataframe thead th {\n",
       "        text-align: right;\n",
       "    }\n",
       "</style>\n",
       "<table border=\"1\" class=\"dataframe\">\n",
       "  <thead>\n",
       "    <tr style=\"text-align: right;\">\n",
       "      <th></th>\n",
       "      <th>PassengerId</th>\n",
       "      <th>Survived</th>\n",
       "      <th>Pclass</th>\n",
       "      <th>Name</th>\n",
       "    </tr>\n",
       "  </thead>\n",
       "  <tbody>\n",
       "    <tr>\n",
       "      <th>0</th>\n",
       "      <td>1</td>\n",
       "      <td>0</td>\n",
       "      <td>3</td>\n",
       "      <td>Braund, Mr. Owen Harris</td>\n",
       "    </tr>\n",
       "    <tr>\n",
       "      <th>1</th>\n",
       "      <td>2</td>\n",
       "      <td>1</td>\n",
       "      <td>1</td>\n",
       "      <td>Cumings, Mrs. John Bradley (Florence Briggs Th...</td>\n",
       "    </tr>\n",
       "    <tr>\n",
       "      <th>2</th>\n",
       "      <td>3</td>\n",
       "      <td>1</td>\n",
       "      <td>3</td>\n",
       "      <td>Heikkinen, Miss. Laina</td>\n",
       "    </tr>\n",
       "  </tbody>\n",
       "</table>\n",
       "</div>"
      ],
      "text/plain": [
       "   PassengerId  Survived  Pclass  \\\n",
       "0            1         0       3   \n",
       "1            2         1       1   \n",
       "2            3         1       3   \n",
       "\n",
       "                                                Name  \n",
       "0                            Braund, Mr. Owen Harris  \n",
       "1  Cumings, Mrs. John Bradley (Florence Briggs Th...  \n",
       "2                             Heikkinen, Miss. Laina  "
      ]
     },
     "execution_count": 3,
     "metadata": {},
     "output_type": "execute_result"
    }
   ],
   "source": [
    "text = pd.read_csv('data/train-left-up.csv')\n",
    "text.head(3)"
   ]
  },
  {
   "cell_type": "markdown",
   "id": "tired-shame",
   "metadata": {},
   "source": [
    "# 2 第二章：数据重构"
   ]
  },
  {
   "cell_type": "markdown",
   "id": "armed-criterion",
   "metadata": {},
   "source": [
    "## 2.4 数据的合并"
   ]
  },
  {
   "cell_type": "markdown",
   "id": "delayed-celtic",
   "metadata": {},
   "source": [
    "### 2.4.1 任务一：将data文件夹里面的所有数据都载入，观察数据的之间的关系  \n",
    "\n",
    "Solution: 通过观察，四个文件为train.csv的不同部分，四个文件互相不重叠且合并之后就可以组成完成的train.csv文件"
   ]
  },
  {
   "cell_type": "code",
   "execution_count": 4,
   "id": "pressing-turning",
   "metadata": {},
   "outputs": [],
   "source": [
    "text_left_up = pd.read_csv(\"data/train-left-up.csv\")\n",
    "text_left_down = pd.read_csv(\"data/train-left-down.csv\")\n",
    "text_right_up = pd.read_csv(\"data/train-right-up.csv\")\n",
    "text_right_down = pd.read_csv(\"data/train-right-down.csv\")"
   ]
  },
  {
   "cell_type": "code",
   "execution_count": 9,
   "id": "nonprofit-tolerance",
   "metadata": {},
   "outputs": [
    {
     "name": "stdout",
     "output_type": "stream",
     "text": [
      "<class 'pandas.core.frame.DataFrame'>\n",
      "RangeIndex: 439 entries, 0 to 438\n",
      "Data columns (total 4 columns):\n",
      " #   Column       Non-Null Count  Dtype \n",
      "---  ------       --------------  ----- \n",
      " 0   PassengerId  439 non-null    int64 \n",
      " 1   Survived     439 non-null    int64 \n",
      " 2   Pclass       439 non-null    int64 \n",
      " 3   Name         439 non-null    object\n",
      "dtypes: int64(3), object(1)\n",
      "memory usage: 13.8+ KB\n"
     ]
    }
   ],
   "source": [
    "text_left_up.info()"
   ]
  },
  {
   "cell_type": "code",
   "execution_count": 10,
   "id": "white-blend",
   "metadata": {},
   "outputs": [
    {
     "name": "stdout",
     "output_type": "stream",
     "text": [
      "<class 'pandas.core.frame.DataFrame'>\n",
      "RangeIndex: 452 entries, 0 to 451\n",
      "Data columns (total 4 columns):\n",
      " #   Column       Non-Null Count  Dtype \n",
      "---  ------       --------------  ----- \n",
      " 0   PassengerId  452 non-null    int64 \n",
      " 1   Survived     452 non-null    int64 \n",
      " 2   Pclass       452 non-null    int64 \n",
      " 3   Name         452 non-null    object\n",
      "dtypes: int64(3), object(1)\n",
      "memory usage: 14.2+ KB\n"
     ]
    }
   ],
   "source": [
    "text_left_down.info()"
   ]
  },
  {
   "cell_type": "code",
   "execution_count": 11,
   "id": "under-kitchen",
   "metadata": {},
   "outputs": [
    {
     "name": "stdout",
     "output_type": "stream",
     "text": [
      "<class 'pandas.core.frame.DataFrame'>\n",
      "RangeIndex: 439 entries, 0 to 438\n",
      "Data columns (total 8 columns):\n",
      " #   Column    Non-Null Count  Dtype  \n",
      "---  ------    --------------  -----  \n",
      " 0   Sex       439 non-null    object \n",
      " 1   Age       352 non-null    float64\n",
      " 2   SibSp     439 non-null    int64  \n",
      " 3   Parch     439 non-null    int64  \n",
      " 4   Ticket    439 non-null    object \n",
      " 5   Fare      439 non-null    float64\n",
      " 6   Cabin     97 non-null     object \n",
      " 7   Embarked  438 non-null    object \n",
      "dtypes: float64(2), int64(2), object(4)\n",
      "memory usage: 27.6+ KB\n"
     ]
    }
   ],
   "source": [
    "text_right_up.info()"
   ]
  },
  {
   "cell_type": "code",
   "execution_count": 12,
   "id": "equipped-handle",
   "metadata": {},
   "outputs": [
    {
     "name": "stdout",
     "output_type": "stream",
     "text": [
      "<class 'pandas.core.frame.DataFrame'>\n",
      "RangeIndex: 452 entries, 0 to 451\n",
      "Data columns (total 8 columns):\n",
      " #   Column    Non-Null Count  Dtype  \n",
      "---  ------    --------------  -----  \n",
      " 0   Sex       452 non-null    object \n",
      " 1   Age       362 non-null    float64\n",
      " 2   SibSp     452 non-null    int64  \n",
      " 3   Parch     452 non-null    int64  \n",
      " 4   Ticket    452 non-null    object \n",
      " 5   Fare      452 non-null    float64\n",
      " 6   Cabin     107 non-null    object \n",
      " 7   Embarked  451 non-null    object \n",
      "dtypes: float64(2), int64(2), object(4)\n",
      "memory usage: 28.4+ KB\n"
     ]
    }
   ],
   "source": [
    "text_right_down.info()"
   ]
  },
  {
   "cell_type": "markdown",
   "id": "convinced-worry",
   "metadata": {},
   "source": [
    "### 2.4.2：任务二：使用concat方法：将数据train-left-up.csv和train-right-up.csv横向合并为一张表，并保存这张表为result_up"
   ]
  },
  {
   "cell_type": "code",
   "execution_count": 14,
   "id": "willing-domestic",
   "metadata": {},
   "outputs": [
    {
     "name": "stdout",
     "output_type": "stream",
     "text": [
      "<class 'pandas.core.frame.DataFrame'>\n",
      "RangeIndex: 439 entries, 0 to 438\n",
      "Data columns (total 12 columns):\n",
      " #   Column       Non-Null Count  Dtype  \n",
      "---  ------       --------------  -----  \n",
      " 0   PassengerId  439 non-null    int64  \n",
      " 1   Survived     439 non-null    int64  \n",
      " 2   Pclass       439 non-null    int64  \n",
      " 3   Name         439 non-null    object \n",
      " 4   Sex          439 non-null    object \n",
      " 5   Age          352 non-null    float64\n",
      " 6   SibSp        439 non-null    int64  \n",
      " 7   Parch        439 non-null    int64  \n",
      " 8   Ticket       439 non-null    object \n",
      " 9   Fare         439 non-null    float64\n",
      " 10  Cabin        97 non-null     object \n",
      " 11  Embarked     438 non-null    object \n",
      "dtypes: float64(2), int64(5), object(5)\n",
      "memory usage: 41.3+ KB\n"
     ]
    }
   ],
   "source": [
    "#  将多个dataframe沿着轴向进行连接\n",
    "result_up = pd.concat([text_left_up,text_right_up],axis=1)\n",
    "result_up.info()"
   ]
  },
  {
   "cell_type": "markdown",
   "id": "returning-transfer",
   "metadata": {},
   "source": [
    "### 2.4.3 任务三：使用concat方法：将train-left-down和train-right-down横向合并为一张表，并保存这张表为result_down。然后将上边的result_up和result_down纵向合并为result。"
   ]
  },
  {
   "cell_type": "code",
   "execution_count": 16,
   "id": "muslim-decade",
   "metadata": {},
   "outputs": [
    {
     "name": "stdout",
     "output_type": "stream",
     "text": [
      "<class 'pandas.core.frame.DataFrame'>\n",
      "Int64Index: 891 entries, 0 to 451\n",
      "Data columns (total 12 columns):\n",
      " #   Column       Non-Null Count  Dtype  \n",
      "---  ------       --------------  -----  \n",
      " 0   PassengerId  891 non-null    int64  \n",
      " 1   Survived     891 non-null    int64  \n",
      " 2   Pclass       891 non-null    int64  \n",
      " 3   Name         891 non-null    object \n",
      " 4   Sex          891 non-null    object \n",
      " 5   Age          714 non-null    float64\n",
      " 6   SibSp        891 non-null    int64  \n",
      " 7   Parch        891 non-null    int64  \n",
      " 8   Ticket       891 non-null    object \n",
      " 9   Fare         891 non-null    float64\n",
      " 10  Cabin        204 non-null    object \n",
      " 11  Embarked     889 non-null    object \n",
      "dtypes: float64(2), int64(5), object(5)\n",
      "memory usage: 90.5+ KB\n"
     ]
    }
   ],
   "source": [
    "result_down = pd.concat([text_left_down,text_right_down],axis=1)\n",
    "result = pd.concat([result_up,result_down])\n",
    "result.info()"
   ]
  },
  {
   "cell_type": "code",
   "execution_count": null,
   "id": "breathing-necessity",
   "metadata": {},
   "outputs": [],
   "source": []
  }
 ],
 "metadata": {
  "kernelspec": {
   "display_name": "Python [conda env:root] *",
   "language": "python",
   "name": "conda-root-py"
  },
  "language_info": {
   "codemirror_mode": {
    "name": "ipython",
    "version": 3
   },
   "file_extension": ".py",
   "mimetype": "text/x-python",
   "name": "python",
   "nbconvert_exporter": "python",
   "pygments_lexer": "ipython3",
   "version": "3.7.3"
  }
 },
 "nbformat": 4,
 "nbformat_minor": 5
}
